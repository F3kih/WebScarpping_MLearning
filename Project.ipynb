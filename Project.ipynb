@@ -19,7 +19,7 @@
   ]
  },
  {
   "cell_type": "raw",
   "cell_type": "markdown",
   "metadata": {},
   "source": [
    "Author : Fkih Younès \n",
@ -36,7 +36,7 @@
   ]
  },
  {
   "cell_type": "raw",
   "cell_type": "markdown",
   "metadata": {},
   "source": [
    "We are working on the detection of Rent announcements Rent amount predection in Paris.\n",
@ -91,7 +91,7 @@
   ]
  },
  {
   "cell_type": "raw",
   "cell_type": "markdown",
   "metadata": {},
   "source": [
    "This function will return a list of json. \n",
@ -127,7 +127,7 @@
   ]
  },
  {
   "cell_type": "raw",
   "cell_type": "markdown",
   "metadata": {},
   "source": [
    "This Function will get Information from each Announcements.\n",
@ -269,7 +269,7 @@
   ]
  },
  {
   "cell_type": "raw",
   "cell_type": "markdown",
   "metadata": {},
   "source": [
    "We observed Some different values for the same Zip Code.\n",
@ -292,7 +292,7 @@
   ]
  },
  {
   "cell_type": "raw",
   "cell_type": "markdown",
   "metadata": {},
   "source": [
    "This is tha scrapping function. It will grab data from the net.\n",
@ -1080,14 +1080,16 @@
  {
   "cell_type": "code",
   "execution_count": 8,
   "metadata": {},
   "metadata": {
    "collapsed": true
   },
   "outputs": [],
   "source": [
    "df_Viz = pd.read_excel('./DB_ML.xlsx') # Getting DB For machien Learning and Vizualisation. "
   ]
  },
  {
   "cell_type": "raw",
   "cell_type": "markdown",
   "metadata": {},
   "source": [
    "This Function will show us the number of announcements in an interactive\n",
@ -1409,7 +1411,7 @@
   ]
  },
  {
   "cell_type": "raw",
   "cell_type": "markdown",
   "metadata": {},
   "source": [
    "This Vizualisation aims to show users which district would be more interesting for them based on their choice.\n",
@ -1487,7 +1489,7 @@
   ]
  },
  {
   "cell_type": "raw",
   "cell_type": "markdown",
   "metadata": {},
   "source": [
    "This Function aims to show user amounts of meter square rent in the district of paris.\n",
@ -1498,7 +1500,9 @@
  {
   "cell_type": "code",
   "execution_count": 15,
   "metadata": {},
   "metadata": {
    "collapsed": true
   },
   "outputs": [],
   "source": [
    "def getMeanRentAmoutSquareMeterByDistrict():\n",
@ -1713,7 +1717,7 @@
   ]
  },
  {
   "cell_type": "raw",
   "cell_type": "markdown",
   "metadata": {},
   "source": [
    "After scrapping data and preparing it in a data frame we are now able to attack the machine learning models, we'll compare them and choose the most adapted one. In this part we'll devide dataframe into test and traning sets.\n",
@ -1745,7 +1749,9 @@
  {
   "cell_type": "code",
   "execution_count": 20,
   "metadata": {},
   "metadata": {
    "collapsed": true
   },
   "outputs": [],
   "source": [
    "def getRentAmountPerAreaAndDisctrict():\n",
@ -1941,7 +1947,9 @@
  {
   "cell_type": "code",
   "execution_count": 24,
   "metadata": {},
   "metadata": {
    "collapsed": true
   },
   "outputs": [],
   "source": [
    "def MLTraining():\n",
@ -2034,6 +2042,15 @@
    "Coef=MLTraining()[0] #Getting the Coefficients for the Linear Regression"
   ]
  },
  {
   "cell_type": "markdown",
   "metadata": {},
   "source": [
    "We observe that the mean's prediction errors is 43€.\n",
    "We observe also that our algorithm performs well from appartement with a rent between 400€ and 4000€\n",
    "So maybe we could have another  algorithm which treats these cases. Implicitally we'd divide apparts to two classes for example to handle both of appart's classes. "
   ]
  },
  {
   "cell_type": "markdown",
   "metadata": {},
